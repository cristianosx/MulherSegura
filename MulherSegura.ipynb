{
  "nbformat": 4,
  "nbformat_minor": 0,
  "metadata": {
    "colab": {
      "provenance": [],
      "authorship_tag": "ABX9TyN7zk0w+W4x74LVwaTwqD7J",
      "include_colab_link": true
    },
    "kernelspec": {
      "name": "python3",
      "display_name": "Python 3"
    },
    "language_info": {
      "name": "python"
    }
  },
  "cells": [
    {
      "cell_type": "markdown",
      "metadata": {
        "id": "view-in-github",
        "colab_type": "text"
      },
      "source": [
        "<a href=\"https://colab.research.google.com/github/cristianosx/MulherSegura/blob/main/MulherSegura.ipynb\" target=\"_parent\"><img src=\"https://colab.research.google.com/assets/colab-badge.svg\" alt=\"Open In Colab\"/></a>"
      ]
    },
    {
      "cell_type": "markdown",
      "source": [
        "Instalando o SDK do Google e configurando a chave"
      ],
      "metadata": {
        "id": "DcRIyEY4ka0z"
      }
    },
    {
      "cell_type": "code",
      "execution_count": 1,
      "metadata": {
        "id": "hCjNyHiLkV2o"
      },
      "outputs": [],
      "source": [
        "!pip install -q -U google-generativeai"
      ]
    },
    {
      "cell_type": "code",
      "source": [
        "# Import the Python SDK\n",
        "import google.generativeai as genai\n",
        "# Used to securely store your API key\n",
        "from google.colab import userdata\n",
        "api_key = userdata.get('SECRET_KEY')\n",
        "\n",
        "#GOOGLE_API_KEY=\"COLAR A CHAVE\"\n",
        "genai.configure(api_key=api_key)"
      ],
      "metadata": {
        "id": "9EiG7hjjkf8d"
      },
      "execution_count": 2,
      "outputs": []
    },
    {
      "cell_type": "markdown",
      "source": [
        "Configurações da LLM"
      ],
      "metadata": {
        "id": "ohSPzTuvkvL3"
      }
    },
    {
      "cell_type": "code",
      "source": [
        "generation_config = {\n",
        "    \"candidate_count\": 1,\n",
        "    \"temperature\": 0.5\n",
        "}\n",
        "\n",
        "safety_settings = {\n",
        "    \"HARASSMENT\": \"BLOCK_NONE\",\n",
        "    \"HATE\": \"BLOCK_NONE\",\n",
        "    \"SEXUAL\": \"BLOCK_NONE\",\n",
        "    \"DANGEROUS\": \"BLOCK_NONE\"\n",
        "}"
      ],
      "metadata": {
        "id": "94ozoRG_krjr"
      },
      "execution_count": 3,
      "outputs": []
    },
    {
      "cell_type": "markdown",
      "source": [
        "Configurações do modelo"
      ],
      "metadata": {
        "id": "PD0JBfJbk3WQ"
      }
    },
    {
      "cell_type": "code",
      "source": [
        "model = genai.GenerativeModel(model_name=\"gemini-1.0-pro\",\n",
        "                              generation_config=generation_config,\n",
        "                              safety_settings=safety_settings)"
      ],
      "metadata": {
        "id": "b_YnllnNk62J"
      },
      "execution_count": 4,
      "outputs": []
    },
    {
      "cell_type": "markdown",
      "source": [
        "Inicializando o chat com o padrao JSON"
      ],
      "metadata": {
        "id": "d92JEoP_lPtY"
      }
    },
    {
      "cell_type": "code",
      "source": [
        "json_padrao = {\n",
        "    \"descricaoOcorrencia\": \"Descricao da ocorrencia\",\n",
        "    \"pessoasFisicas\": [\n",
        "      {\n",
        "        \"cpf\": \"12345678900\",\n",
        "        \"sexo\": \"F\",\n",
        "        \"nome\": \"Maria da Penha\",\n",
        "        \"nomeSocial\": \"Maria\",\n",
        "        \"dataNascimento\": \"2000-01-01\"\n",
        "      }\n",
        "    ]\n",
        "}"
      ],
      "metadata": {
        "id": "n_DQDhZqmR16"
      },
      "execution_count": 5,
      "outputs": []
    },
    {
      "cell_type": "code",
      "source": [
        "chat = model.start_chat(history=[])"
      ],
      "metadata": {
        "id": "82yugix_lSmL"
      },
      "execution_count": 6,
      "outputs": []
    },
    {
      "cell_type": "code",
      "source": [
        "response = chat.send_message(\"Gere um novo JSON conforme o exemplo: \" + str(json_padrao))\n",
        "response = chat.send_message(\"Se tiver algum valor null (nulo), informe logo após o JSON quais são os valores que estão faltando. Caso não tenha nenhum valor nulo, favor escrever a frase \\\"JSON Enviado com SUCESSO\\\"\")"
      ],
      "metadata": {
        "id": "AhwW6qIHncPD"
      },
      "execution_count": 7,
      "outputs": []
    },
    {
      "cell_type": "markdown",
      "source": [
        "Exemplo de texto:\n",
        "\n",
        "`Meu nome é Joaquina Silva, tenho 40 anos e nasci dia 01 de junho. Fui agredida em casa pelo meu companheiro`\n",
        "\n",
        "para complementar, colocar o CPF:\n",
        "\n",
        "`cpf 12345678900`\n",
        "\n",
        "Complementar até que o JSON fim todo preenchido"
      ],
      "metadata": {
        "id": "7V8GglqS3MPf"
      }
    },
    {
      "cell_type": "code",
      "source": [
        "prompt = input(\"Esperando o prompt: \")\n",
        "\n",
        "while prompt != \"fim\":\n",
        "  response = chat.send_message(prompt)\n",
        "  print(\"Resposta: \", response.text, \"\\n\")\n",
        "  prompt = input(\"Esperando o prompt: \")"
      ],
      "metadata": {
        "colab": {
          "base_uri": "https://localhost:8080/",
          "height": 1000
        },
        "id": "-7KRxNEfqR16",
        "outputId": "c2162d66-3b7b-4146-bd6d-f826f9c6ce5e"
      },
      "execution_count": 9,
      "outputs": [
        {
          "output_type": "stream",
          "name": "stdout",
          "text": [
            "Esperando o prompt: Meu nome é Maria Silva, tenho 40 anos e nasci dia 01 de junho. Fui agredida em casa pelo meu companheiro\n",
            "Resposta:  **Dados Pessoais:**\n",
            "\n",
            "* Nome: Maria Silva\n",
            "* Idade: 40 anos\n",
            "* Data de Nascimento: 01/06/1983\n",
            "* CPF: Não informado\n",
            "* Sexo: Não informado\n",
            "* Nome Social: Não informado\n",
            "\n",
            "**Ocorrência:**\n",
            "\n",
            "* Tipo: Violência doméstica\n",
            "* Local: Residência da vítima\n",
            "* Autor: Companheiro da vítima\n",
            "* Data e hora: Não informados\n",
            "* Lesões sofridas: Não informadas\n",
            "\n",
            "**Observações:**\n",
            "\n",
            "* A vítima não informou o CPF, sexo e nome social.\n",
            "* A vítima não informou a data e hora da agressão.\n",
            "* A vítima não informou se sofreu algum tipo de lesão.\n",
            "\n",
            "**JSON:**\n",
            "\n",
            "```\n",
            "{\n",
            "  \"descricaoOcorrencia\": \"A vítima, Maria Silva, 40 anos, foi agredida em casa pelo seu companheiro. Não há informações sobre a data e hora da agressão, nem sobre as lesões sofridas pela vítima.\",\n",
            "  \"pessoasFisicas\": [\n",
            "    {\n",
            "      \"cpf\": null,\n",
            "      \"sexo\": null,\n",
            "      \"nome\": \"Maria Silva\",\n",
            "      \"nomeSocial\": null,\n",
            "      \"dataNascimento\": \"1983-06-01\"\n",
            "    }\n",
            "  ]\n",
            "}\n",
            "```\n",
            "\n",
            "**Valores nulos:**\n",
            "\n",
            "* CPF\n",
            "* Sexo\n",
            "* Nome Social\n",
            "* Data e hora da agressão\n",
            "* Lesões sofridas\n",
            "\n",
            "**Observações:**\n",
            "\n",
            "* Os dados do agressor não foram informados pela vítima, portanto, não foram incluídos no JSON. \n",
            "\n"
          ]
        },
        {
          "output_type": "error",
          "ename": "KeyboardInterrupt",
          "evalue": "Interrupted by user",
          "traceback": [
            "\u001b[0;31m---------------------------------------------------------------------------\u001b[0m",
            "\u001b[0;31mKeyboardInterrupt\u001b[0m                         Traceback (most recent call last)",
            "\u001b[0;32m<ipython-input-9-1204c707b5f8>\u001b[0m in \u001b[0;36m<cell line: 3>\u001b[0;34m()\u001b[0m\n\u001b[1;32m      4\u001b[0m   \u001b[0mresponse\u001b[0m \u001b[0;34m=\u001b[0m \u001b[0mchat\u001b[0m\u001b[0;34m.\u001b[0m\u001b[0msend_message\u001b[0m\u001b[0;34m(\u001b[0m\u001b[0mprompt\u001b[0m\u001b[0;34m)\u001b[0m\u001b[0;34m\u001b[0m\u001b[0;34m\u001b[0m\u001b[0m\n\u001b[1;32m      5\u001b[0m   \u001b[0mprint\u001b[0m\u001b[0;34m(\u001b[0m\u001b[0;34m\"Resposta: \"\u001b[0m\u001b[0;34m,\u001b[0m \u001b[0mresponse\u001b[0m\u001b[0;34m.\u001b[0m\u001b[0mtext\u001b[0m\u001b[0;34m,\u001b[0m \u001b[0;34m\"\\n\"\u001b[0m\u001b[0;34m)\u001b[0m\u001b[0;34m\u001b[0m\u001b[0;34m\u001b[0m\u001b[0m\n\u001b[0;32m----> 6\u001b[0;31m   \u001b[0mprompt\u001b[0m \u001b[0;34m=\u001b[0m \u001b[0minput\u001b[0m\u001b[0;34m(\u001b[0m\u001b[0;34m\"Esperando o prompt: \"\u001b[0m\u001b[0;34m)\u001b[0m\u001b[0;34m\u001b[0m\u001b[0;34m\u001b[0m\u001b[0m\n\u001b[0m",
            "\u001b[0;32m/usr/local/lib/python3.10/dist-packages/ipykernel/kernelbase.py\u001b[0m in \u001b[0;36mraw_input\u001b[0;34m(self, prompt)\u001b[0m\n\u001b[1;32m    849\u001b[0m                 \u001b[0;34m\"raw_input was called, but this frontend does not support input requests.\"\u001b[0m\u001b[0;34m\u001b[0m\u001b[0;34m\u001b[0m\u001b[0m\n\u001b[1;32m    850\u001b[0m             )\n\u001b[0;32m--> 851\u001b[0;31m         return self._input_request(str(prompt),\n\u001b[0m\u001b[1;32m    852\u001b[0m             \u001b[0mself\u001b[0m\u001b[0;34m.\u001b[0m\u001b[0m_parent_ident\u001b[0m\u001b[0;34m,\u001b[0m\u001b[0;34m\u001b[0m\u001b[0;34m\u001b[0m\u001b[0m\n\u001b[1;32m    853\u001b[0m             \u001b[0mself\u001b[0m\u001b[0;34m.\u001b[0m\u001b[0m_parent_header\u001b[0m\u001b[0;34m,\u001b[0m\u001b[0;34m\u001b[0m\u001b[0;34m\u001b[0m\u001b[0m\n",
            "\u001b[0;32m/usr/local/lib/python3.10/dist-packages/ipykernel/kernelbase.py\u001b[0m in \u001b[0;36m_input_request\u001b[0;34m(self, prompt, ident, parent, password)\u001b[0m\n\u001b[1;32m    893\u001b[0m             \u001b[0;32mexcept\u001b[0m \u001b[0mKeyboardInterrupt\u001b[0m\u001b[0;34m:\u001b[0m\u001b[0;34m\u001b[0m\u001b[0;34m\u001b[0m\u001b[0m\n\u001b[1;32m    894\u001b[0m                 \u001b[0;31m# re-raise KeyboardInterrupt, to truncate traceback\u001b[0m\u001b[0;34m\u001b[0m\u001b[0;34m\u001b[0m\u001b[0m\n\u001b[0;32m--> 895\u001b[0;31m                 \u001b[0;32mraise\u001b[0m \u001b[0mKeyboardInterrupt\u001b[0m\u001b[0;34m(\u001b[0m\u001b[0;34m\"Interrupted by user\"\u001b[0m\u001b[0;34m)\u001b[0m \u001b[0;32mfrom\u001b[0m \u001b[0;32mNone\u001b[0m\u001b[0;34m\u001b[0m\u001b[0;34m\u001b[0m\u001b[0m\n\u001b[0m\u001b[1;32m    896\u001b[0m             \u001b[0;32mexcept\u001b[0m \u001b[0mException\u001b[0m \u001b[0;32mas\u001b[0m \u001b[0me\u001b[0m\u001b[0;34m:\u001b[0m\u001b[0;34m\u001b[0m\u001b[0;34m\u001b[0m\u001b[0m\n\u001b[1;32m    897\u001b[0m                 \u001b[0mself\u001b[0m\u001b[0;34m.\u001b[0m\u001b[0mlog\u001b[0m\u001b[0;34m.\u001b[0m\u001b[0mwarning\u001b[0m\u001b[0;34m(\u001b[0m\u001b[0;34m\"Invalid Message:\"\u001b[0m\u001b[0;34m,\u001b[0m \u001b[0mexc_info\u001b[0m\u001b[0;34m=\u001b[0m\u001b[0;32mTrue\u001b[0m\u001b[0;34m)\u001b[0m\u001b[0;34m\u001b[0m\u001b[0;34m\u001b[0m\u001b[0m\n",
            "\u001b[0;31mKeyboardInterrupt\u001b[0m: Interrupted by user"
          ]
        }
      ]
    }
  ]
}