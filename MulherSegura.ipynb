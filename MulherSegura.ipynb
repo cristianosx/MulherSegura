{
  "nbformat": 4,
  "nbformat_minor": 0,
  "metadata": {
    "colab": {
      "provenance": [],
      "authorship_tag": "ABX9TyN7zk0w+W4x74LVwaTwqD7J",
      "include_colab_link": true
    },
    "kernelspec": {
      "name": "python3",
      "display_name": "Python 3"
    },
    "language_info": {
      "name": "python"
    }
  },
  "cells": [
    {
      "cell_type": "markdown",
      "metadata": {
        "id": "view-in-github",
        "colab_type": "text"
      },
      "source": [
        "<a href=\"https://colab.research.google.com/github/cristianosx/MulherSegura/blob/main/MulherSegura.ipynb\" target=\"_parent\"><img src=\"https://colab.research.google.com/assets/colab-badge.svg\" alt=\"Open In Colab\"/></a>"
      ]
    },
    {
      "cell_type": "markdown",
      "source": [
        "Instalando o SDK do Google e configurando a chave"
      ],
      "metadata": {
        "id": "DcRIyEY4ka0z"
      }
    },
    {
      "cell_type": "code",
      "execution_count": 10,
      "metadata": {
        "id": "hCjNyHiLkV2o"
      },
      "outputs": [],
      "source": [
        "!pip install -q -U google-generativeai"
      ]
    },
    {
      "cell_type": "code",
      "source": [
        "# Import the Python SDK\n",
        "import google.generativeai as genai\n",
        "# Used to securely store your API key\n",
        "from google.colab import userdata\n",
        "api_key = userdata.get('SECRET_KEY')\n",
        "\n",
        "#GOOGLE_API_KEY=\"COLAR A CHAVE\"\n",
        "genai.configure(api_key=api_key)"
      ],
      "metadata": {
        "id": "9EiG7hjjkf8d"
      },
      "execution_count": 11,
      "outputs": []
    },
    {
      "cell_type": "markdown",
      "source": [
        "Configurações da LLM"
      ],
      "metadata": {
        "id": "ohSPzTuvkvL3"
      }
    },
    {
      "cell_type": "code",
      "source": [
        "generation_config = {\n",
        "    \"candidate_count\": 1,\n",
        "    \"temperature\": 0.5\n",
        "}\n",
        "\n",
        "safety_settings = {\n",
        "    \"HARASSMENT\": \"BLOCK_NONE\",\n",
        "    \"HATE\": \"BLOCK_NONE\",\n",
        "    \"SEXUAL\": \"BLOCK_NONE\",\n",
        "    \"DANGEROUS\": \"BLOCK_NONE\"\n",
        "}"
      ],
      "metadata": {
        "id": "94ozoRG_krjr"
      },
      "execution_count": 12,
      "outputs": []
    },
    {
      "cell_type": "markdown",
      "source": [
        "Configurações do modelo"
      ],
      "metadata": {
        "id": "PD0JBfJbk3WQ"
      }
    },
    {
      "cell_type": "code",
      "source": [
        "model = genai.GenerativeModel(model_name=\"gemini-1.0-pro\",\n",
        "                              generation_config=generation_config,\n",
        "                              safety_settings=safety_settings)"
      ],
      "metadata": {
        "id": "b_YnllnNk62J"
      },
      "execution_count": 13,
      "outputs": []
    },
    {
      "cell_type": "markdown",
      "source": [
        "Inicializando o chat com o padrao JSON"
      ],
      "metadata": {
        "id": "d92JEoP_lPtY"
      }
    },
    {
      "cell_type": "code",
      "source": [
        "json_padrao = {\n",
        "    \"descricaoOcorrencia\": \"Descricao da ocorrencia\",\n",
        "    \"pessoasFisicas\": [\n",
        "      {\n",
        "        \"cpf\": \"12345678900\",\n",
        "        \"sexo\": \"F\",\n",
        "        \"nome\": \"Maria da Penha\",\n",
        "        \"nomeSocial\": \"Maria\",\n",
        "        \"dataNascimento\": \"2000-01-01\"\n",
        "      }\n",
        "    ]\n",
        "}"
      ],
      "metadata": {
        "id": "n_DQDhZqmR16"
      },
      "execution_count": 14,
      "outputs": []
    },
    {
      "cell_type": "code",
      "source": [
        "chat = model.start_chat(history=[])"
      ],
      "metadata": {
        "id": "82yugix_lSmL"
      },
      "execution_count": 15,
      "outputs": []
    },
    {
      "cell_type": "code",
      "source": [
        "response = chat.send_message(\"Gere um novo JSON conforme o exemplo: \" + str(json_padrao))\n",
        "response = chat.send_message(\"Se tiver algum valor null (nulo), informe logo após o JSON quais são os valores que estão faltando. Caso não tenha nenhum valor nulo, favor escrever a frase \\\"JSON Enviado com SUCESSO\\\"\")"
      ],
      "metadata": {
        "id": "AhwW6qIHncPD"
      },
      "execution_count": 16,
      "outputs": []
    },
    {
      "cell_type": "markdown",
      "source": [
        "Exemplo de texto:\n",
        "\n",
        "`Meu nome é Joaquina Silva, tenho 40 anos e nasci dia 01 de junho. Fui agredida em casa pelo meu companheiro`\n",
        "\n",
        "para complementar, colocar o CPF:\n",
        "\n",
        "`cpf 12345678900`\n",
        "\n",
        "Complementar até que o JSON fim todo preenchido"
      ],
      "metadata": {
        "id": "7V8GglqS3MPf"
      }
    },
    {
      "cell_type": "code",
      "source": [
        "prompt = input(\"Esperando o prompt: \")\n",
        "\n",
        "while prompt != \"fim\":\n",
        "  response = chat.send_message(prompt)\n",
        "  print(\"Resposta: \", response.text, \"\\n\")\n",
        "  prompt = input(\"Esperando o prompt: \")"
      ],
      "metadata": {
        "colab": {
          "base_uri": "https://localhost:8080/"
        },
        "id": "-7KRxNEfqR16",
        "outputId": "fdb9cbf8-7feb-4b26-ecdf-c067a018db86"
      },
      "execution_count": 17,
      "outputs": [
        {
          "name": "stdout",
          "output_type": "stream",
          "text": [
            "Esperando o prompt: fim\n"
          ]
        }
      ]
    }
  ]
}